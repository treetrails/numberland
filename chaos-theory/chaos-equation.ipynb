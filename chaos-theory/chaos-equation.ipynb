{
 "cells": [
  {
   "cell_type": "code",
   "execution_count": 2,
   "metadata": {},
   "outputs": [],
   "source": [
    "import pandas as pd"
   ]
  },
  {
   "cell_type": "markdown",
   "metadata": {},
   "source": [
    "# Chaos theory\n",
    "Chaos theory is a branch of mathematics focusing on the study of chaos—states of dynamical systems whose apparently-random states of disorder and irregularities are often governed by deterministic laws that are highly sensitive to initial conditions."
   ]
  },
  {
   "cell_type": "markdown",
   "metadata": {},
   "source": [
    "## Chaos equation\n",
    "\n",
    "A study of iterations with another quadratic equation `f(x) = kx(1-x)` was a cornerstone in a related development of the science of chaos. This is a well known __logisitic equation__. The process __x<sub>n+1</sub> = kx<sub>n</sub>(1 - x<sub>n</sub>)__ often closely describes a population change from year `n` to the next year `n+1`. The first term `kx` reflects the reproduction tendency which is proportional to the present population.\n",
    "\n",
    "The need to coexist and share resources is presented by the inhibiting term `(1-x)`. Robert May, an Australian mathematician engrossed in Biology, studied the global behavior of the process in its dependency on the selection of the coefficient `k`."
   ]
  },
  {
   "cell_type": "code",
   "execution_count": 6,
   "metadata": {},
   "outputs": [],
   "source": [
    "k = 1\n",
    "x_range = 100, 0 # 100, 99, ..., 3, 2, 1"
   ]
  },
  {
   "cell_type": "code",
   "execution_count": 13,
   "metadata": {},
   "outputs": [],
   "source": [
    "def calc(k, x=1, count=100):\n",
    "    xl = k*x*(1-x)\n",
    "    if count > 0:\n",
    "        return [xl, *calc(k, xl, count-1)]\n",
    "    else:\n",
    "        return [xl]"
   ]
  },
  {
   "cell_type": "code",
   "execution_count": 33,
   "metadata": {},
   "outputs": [
    {
     "data": {
      "text/plain": [
       "[1.6,\n",
       " 0.7680000000000002,\n",
       " -0.1425407999999999,\n",
       " 0.13028694373171193,\n",
       " -0.09064980481980933,\n",
       " 0.07909375354694309,\n",
       " -0.058270345357438816,\n",
       " 0.04933262280441121,\n",
       " -0.037519132105319125,\n",
       " 0.031141453903404413,\n",
       " -0.02413733100174924]"
      ]
     },
     "execution_count": 33,
     "metadata": {},
     "output_type": "execute_result"
    }
   ],
   "source": [
    "calc(-0.8, 2, 10)"
   ]
  },
  {
   "cell_type": "code",
   "execution_count": null,
   "metadata": {},
   "outputs": [],
   "source": []
  }
 ],
 "metadata": {
  "kernelspec": {
   "display_name": "Python 3",
   "language": "python",
   "name": "python3"
  },
  "language_info": {
   "codemirror_mode": {
    "name": "ipython",
    "version": 3
   },
   "file_extension": ".py",
   "mimetype": "text/x-python",
   "name": "python",
   "nbconvert_exporter": "python",
   "pygments_lexer": "ipython3",
   "version": "3.7.5"
  }
 },
 "nbformat": 4,
 "nbformat_minor": 4
}
